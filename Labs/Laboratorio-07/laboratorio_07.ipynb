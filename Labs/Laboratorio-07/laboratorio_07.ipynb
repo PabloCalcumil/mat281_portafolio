{
 "cells": [
  {
   "cell_type": "markdown",
   "metadata": {},
   "source": [
    "<img src=\"images/usm.jpg\" width=\"480\" height=\"240\" align=\"left\"/>"
   ]
  },
  {
   "cell_type": "markdown",
   "metadata": {},
   "source": [
    "# MAT281 - Laboratorios N°01\n",
    "\n",
    "## Objetivos del laboratorio\n",
    "\n",
    "* Reforzar conceptos básicos de regresión lineal."
   ]
  },
  {
   "cell_type": "markdown",
   "metadata": {},
   "source": [
    "## Contenidos\n",
    "\n",
    "* [Problema 01](#p1)\n"
   ]
  },
  {
   "cell_type": "markdown",
   "metadata": {},
   "source": [
    "<a id='p1'></a>\n",
    "## I.- Problema 01\n",
    "\n",
    "\n",
    "<img src=\"https://upload.wikimedia.org/wikipedia/commons/thumb/b/b6/Anscombe.svg/1200px-Anscombe.svg.png\" width=\"360\" height=\"360\" align=\"center\"/>\n",
    "\n"
   ]
  },
  {
   "cell_type": "markdown",
   "metadata": {},
   "source": [
    "El **cuarteto de Anscombe** comprende cuatro conjuntos de datos que tienen las mismas propiedades estadísticas, pero que evidentemente son distintas al inspeccionar sus gráficos respectivos.\n",
    "\n",
    "Cada conjunto consiste de once puntos (x, y) y fueron construidos por el estadístico F. J. Anscombe. El cuarteto es una demostración de la importancia de mirar gráficamente un conjunto de datos antes de analizarlos."
   ]
  },
  {
   "cell_type": "code",
   "execution_count": 1,
   "metadata": {},
   "outputs": [],
   "source": [
    "import os\n",
    "import numpy as np\n",
    "import pandas as pd\n",
    "import matplotlib.pyplot as plt\n",
    "import seaborn as sns\n",
    "\n",
    "%matplotlib inline\n",
    "sns.set_palette(\"deep\", desat=.6)\n",
    "sns.set(rc={'figure.figsize': (11.7,8.27)})"
   ]
  },
  {
   "cell_type": "code",
   "execution_count": 2,
   "metadata": {},
   "outputs": [
    {
     "data": {
      "text/html": [
       "<div>\n",
       "<style scoped>\n",
       "    .dataframe tbody tr th:only-of-type {\n",
       "        vertical-align: middle;\n",
       "    }\n",
       "\n",
       "    .dataframe tbody tr th {\n",
       "        vertical-align: top;\n",
       "    }\n",
       "\n",
       "    .dataframe thead th {\n",
       "        text-align: right;\n",
       "    }\n",
       "</style>\n",
       "<table border=\"1\" class=\"dataframe\">\n",
       "  <thead>\n",
       "    <tr style=\"text-align: right;\">\n",
       "      <th></th>\n",
       "      <th>x</th>\n",
       "      <th>y</th>\n",
       "      <th>grupo</th>\n",
       "    </tr>\n",
       "  </thead>\n",
       "  <tbody>\n",
       "    <tr>\n",
       "      <th>0</th>\n",
       "      <td>10</td>\n",
       "      <td>8.04</td>\n",
       "      <td>Grupo_1</td>\n",
       "    </tr>\n",
       "    <tr>\n",
       "      <th>1</th>\n",
       "      <td>8</td>\n",
       "      <td>6.95</td>\n",
       "      <td>Grupo_1</td>\n",
       "    </tr>\n",
       "    <tr>\n",
       "      <th>2</th>\n",
       "      <td>13</td>\n",
       "      <td>7.58</td>\n",
       "      <td>Grupo_1</td>\n",
       "    </tr>\n",
       "    <tr>\n",
       "      <th>3</th>\n",
       "      <td>9</td>\n",
       "      <td>8.81</td>\n",
       "      <td>Grupo_1</td>\n",
       "    </tr>\n",
       "    <tr>\n",
       "      <th>4</th>\n",
       "      <td>11</td>\n",
       "      <td>8.33</td>\n",
       "      <td>Grupo_1</td>\n",
       "    </tr>\n",
       "  </tbody>\n",
       "</table>\n",
       "</div>"
      ],
      "text/plain": [
       "    x     y    grupo\n",
       "0  10  8.04  Grupo_1\n",
       "1   8  6.95  Grupo_1\n",
       "2  13  7.58  Grupo_1\n",
       "3   9  8.81  Grupo_1\n",
       "4  11  8.33  Grupo_1"
      ]
     },
     "execution_count": 2,
     "metadata": {},
     "output_type": "execute_result"
    }
   ],
   "source": [
    "# cargar datos\n",
    "df = pd.read_csv(os.path.join(\"data\",\"anscombe.csv\"), sep=\",\")\n",
    "df.head()"
   ]
  },
  {
   "cell_type": "markdown",
   "metadata": {},
   "source": [
    "Basado en la información presentada responda las siguientes preguntas: "
   ]
  },
  {
   "cell_type": "markdown",
   "metadata": {},
   "source": [
    "__1.__ Gráfique mediante un gráfico tipo **scatter** cada grupo. A simple vista, ¿ los grupos son muy distintos entre si?"
   ]
  },
  {
   "cell_type": "markdown",
   "metadata": {},
   "source": [
    "Se puede ver claramente en los siguientes gráficos que todos los grupos son muy distintos, puesto que tienen diferentes comportamientos, lineal, cuadratica, etc."
   ]
  },
  {
   "cell_type": "code",
   "execution_count": 3,
   "metadata": {},
   "outputs": [
    {
     "data": {
      "image/png": "[encoded data removed]",
      "text/plain": [
       "<Figure size 324x252 with 1 Axes>"
      ]
     },
     "metadata": {},
     "output_type": "display_data"
    },
    {
     "data": {
      "image/png": "[encoded data removed]",
      "text/plain": [
       "<Figure size 324x252 with 1 Axes>"
      ]
     },
     "metadata": {},
     "output_type": "display_data"
    },
    {
     "data": {
      "image/png": "[encoded data removed]",
      "text/plain": [
       "<Figure size 324x252 with 1 Axes>"
      ]
     },
     "metadata": {},
     "output_type": "display_data"
    },
    {
     "data": {
      "image/png": "[encoded data removed]",
      "text/plain": [
       "<Figure size 324x252 with 1 Axes>"
      ]
     },
     "metadata": {},
     "output_type": "display_data"
    }
   ],
   "source": [
    "sns.set(rc={'figure.figsize':(4.5,3.5)})\n",
    "\n",
    "#Obtenemos la cantidad de grupos\n",
    "groups = df['grupo'].unique()\n",
    "len_groups = len(groups)  #Nos servira de aquí en adelante\n",
    "\n",
    "#Hacemos una mascara por grupo\n",
    "masks = [df['grupo'] == i for i in groups]\n",
    "\n",
    "#Dataframe por grupo\n",
    "df_groups = [df[i] for i in masks]\n",
    "\n",
    "\n",
    "#Graficamos cada grupo\n",
    "\n",
    "for i in range(0, len_groups):\n",
    "    sns.scatterplot(\n",
    "    x = 'x',\n",
    "    y = 'y',\n",
    "    data = df_groups[i]\n",
    "    )\n",
    "    plt.title(groups[i])\n",
    "    plt.show()"
   ]
  },
  {
   "cell_type": "code",
   "execution_count": 4,
   "metadata": {},
   "outputs": [
    {
     "data": {
      "image/png": "[encoded data removed]",
      "text/plain": [
       "<Figure size 842.4x595.44 with 1 Axes>"
      ]
     },
     "metadata": {},
     "output_type": "display_data"
    }
   ],
   "source": [
    "sns.set(rc={'figure.figsize': (11.7,8.27)})\n",
    "\n",
    "#Graficamos los grupos igual que antes, pero todos juntos\n",
    "sns.scatterplot(\n",
    "    x = 'x',\n",
    "    y = 'y',\n",
    "    data = df,\n",
    "    hue = 'grupo'\n",
    ")  \n",
    "plt.show()"
   ]
  },
  {
   "cell_type": "markdown",
   "metadata": {},
   "source": [
    "__2.__ Realice un resumen de las medidas estadísticas más significativas ocuapando el comando **describe** para cada grupo. Interprete."
   ]
  },
  {
   "cell_type": "code",
   "execution_count": 5,
   "metadata": {},
   "outputs": [
    {
     "name": "stdout",
     "output_type": "stream",
     "text": [
      "\n",
      "Grupo 1\n",
      "               x          y\n",
      "count  11.000000  11.000000\n",
      "mean    9.000000   7.500909\n",
      "std     3.316625   2.031568\n",
      "min     4.000000   4.260000\n",
      "25%     6.500000   6.315000\n",
      "50%     9.000000   7.580000\n",
      "75%    11.500000   8.570000\n",
      "max    14.000000  10.840000\n",
      "\n",
      "Grupo 2\n",
      "               x          y\n",
      "count  11.000000  11.000000\n",
      "mean    9.000000   7.500909\n",
      "std     3.316625   2.031657\n",
      "min     4.000000   3.100000\n",
      "25%     6.500000   6.695000\n",
      "50%     9.000000   8.140000\n",
      "75%    11.500000   8.950000\n",
      "max    14.000000   9.260000\n",
      "\n",
      "Grupo 3\n",
      "               x          y\n",
      "count  11.000000  11.000000\n",
      "mean    9.000000   7.500000\n",
      "std     3.316625   2.030424\n",
      "min     4.000000   5.390000\n",
      "25%     6.500000   6.250000\n",
      "50%     9.000000   7.110000\n",
      "75%    11.500000   7.980000\n",
      "max    14.000000  12.740000\n",
      "\n",
      "Grupo 4\n",
      "               x          y\n",
      "count  11.000000  11.000000\n",
      "mean    9.000000   7.500909\n",
      "std     3.316625   2.030579\n",
      "min     8.000000   5.250000\n",
      "25%     8.000000   6.170000\n",
      "50%     8.000000   7.040000\n",
      "75%     8.000000   8.190000\n",
      "max    19.000000  12.500000\n"
     ]
    }
   ],
   "source": [
    "for i in range(0,len_groups):   #Se presenta la descripción de cada grupo\n",
    "    print('\\nGrupo', i + 1)\n",
    "    print(df_groups[i].describe())"
   ]
  },
  {
   "cell_type": "markdown",
   "metadata": {},
   "source": [
    "Dado que en los **4** grupos, se tienen **11** datos para los valores _x_ e _y_, y considerando el promedio de ambas variables y su desviación estándar, uno esperaría que estos fueran muy parecidos y/o que se comportaran de la misma manera, pero por lo visto en los gráficos de dispersión esto no es así."
   ]
  },
  {
   "cell_type": "markdown",
   "metadata": {},
   "source": [
    "__3.__ Realice un ajuste lineal para cada grupo. Además, grafique los resultados de la regresión lineal para cada grupo. Interprete."
   ]
  },
  {
   "cell_type": "code",
   "execution_count": 6,
   "metadata": {},
   "outputs": [
    {
     "name": "stdout",
     "output_type": "stream",
     "text": [
      "El mejor ajuste lineal para el grupo 1 viene dado por la recta: \n",
      "\n",
      "         y = 3.47 + 0.47*x\n",
      "\n",
      "El mejor ajuste lineal para el grupo 2 viene dado por la recta: \n",
      "\n",
      "         y = 1.92 + 0.63*x\n",
      "\n",
      "El mejor ajuste lineal para el grupo 3 viene dado por la recta: \n",
      "\n",
      "         y = 2.46 + 0.59*x\n",
      "\n",
      "El mejor ajuste lineal para el grupo 4 viene dado por la recta: \n",
      "\n",
      "         y = 2.87 + 0.51*x\n",
      "\n"
     ]
    }
   ],
   "source": [
    "#Importamos herramientas para la regresión\n",
    "from sklearn import datasets\n",
    "from sklearn.model_selection import train_test_split\n",
    "from sklearn.linear_model import LinearRegression\n",
    "\n",
    "\n",
    "#Datos por grupo de x e y\n",
    "X_g1 = df_groups[0][['x']]\n",
    "y_g1 = df_groups[0]['y']\n",
    "X_g2 = df_groups[1][['x']]\n",
    "y_g2 = df_groups[1]['y']\n",
    "X_g3 = df_groups[2][['x']]\n",
    "y_g3 = df_groups[2]['y']\n",
    "X_g4 = df_groups[3][['x']]\n",
    "y_g4 = df_groups[3]['y']\n",
    "\n",
    "\n",
    "# Training_set y test_set por grupo\n",
    "X_g1_train,X_g1_test,y_g1_train,y_g1_test=train_test_split(X_g1, y_g1, test_size=0.2, random_state=42)\n",
    "X_g2_train,X_g2_test,y_g2_train,y_g2_test=train_test_split(X_g2, y_g2, test_size=0.2, random_state=42)\n",
    "X_g3_train,X_g3_test,y_g3_train,y_g3_test=train_test_split(X_g3, y_g3, test_size=0.2, random_state=42)\n",
    "X_g4_train,X_g4_test,y_g4_train,y_g4_test=train_test_split(X_g4, y_g4, test_size=0.2, random_state=42)\n",
    "\n",
    "\n",
    "#Creando modelo\n",
    "model_rl = LinearRegression()\n",
    "\n",
    "#Parametros\n",
    "beta_groups_0 = []\n",
    "beta_groups_1 = []\n",
    "\n",
    "#Modelos\n",
    "#Grupo 1\n",
    "model_rl.fit(X_g1_train, y_g1_train)\n",
    "beta_groups_0.append(round(model_rl.intercept_,2))\n",
    "beta_groups_1.append(round(model_rl.coef_[0],2))\n",
    "\n",
    "#Grupo 2\n",
    "model_rl.fit(X_g2_train, y_g2_train)\n",
    "beta_groups_0.append(round(model_rl.intercept_,2))\n",
    "beta_groups_1.append(round(model_rl.coef_[0],2))\n",
    "\n",
    "#Grupo 3\n",
    "model_rl.fit(X_g3_train, y_g3_train)\n",
    "beta_groups_0.append(round(model_rl.intercept_,2))\n",
    "beta_groups_1.append(round(model_rl.coef_[0],2))\n",
    "\n",
    "#Grupo 4\n",
    "model_rl.fit(X_g4_train, y_g4_train)\n",
    "beta_groups_0.append(model_rl.intercept_)\n",
    "beta_groups_1.append(model_rl.coef_[0])\n",
    "\n",
    "for i in range(0, len_groups):\n",
    "    print(f\"El mejor ajuste lineal para el grupo {i+1} viene dado por la recta: \\n\\n     \\\n",
    "    y = {round(beta_groups_0[i],2)} + {round(beta_groups_1[i],2)}*x\\n\")\n"
   ]
  },
  {
   "cell_type": "code",
   "execution_count": 7,
   "metadata": {},
   "outputs": [
    {
     "data": {
      "image/png": "[encoded data removed]",
      "text/plain": [
       "<Figure size 396x288 with 1 Axes>"
      ]
     },
     "metadata": {},
     "output_type": "display_data"
    },
    {
     "data": {
      "image/png": "[encoded data removed]",
      "text/plain": [
       "<Figure size 396x288 with 1 Axes>"
      ]
     },
     "metadata": {},
     "output_type": "display_data"
    },
    {
     "data": {
      "image/png": "[encoded data removed]",
      "text/plain": [
       "<Figure size 396x288 with 1 Axes>"
      ]
     },
     "metadata": {},
     "output_type": "display_data"
    },
    {
     "data": {
      "image/png": "[encoded data removed]",
      "text/plain": [
       "<Figure size 396x288 with 1 Axes>"
      ]
     },
     "metadata": {},
     "output_type": "display_data"
    }
   ],
   "source": [
    "#Predicciones por grupo\n",
    "y_g1_predict = model_rl.predict(X_g1_test)\n",
    "y_g2_predict = model_rl.predict(X_g2_test)\n",
    "y_g3_predict = model_rl.predict(X_g3_test)\n",
    "y_g4_predict = model_rl.predict(X_g4_test)\n",
    "\n",
    "#Datas para graficar\n",
    "\n",
    "x_range = np.arange(3,18,0.1)\n",
    "        \n",
    "df_g1_plot = pd.DataFrame({'x':x_range,\n",
    "                        'y_true':[beta_groups_0[0] + beta_groups_1[0]*n for n in x_range]})\n",
    "df_g2_plot = pd.DataFrame({'x':x_range,\n",
    "                        'y_true':[beta_groups_0[1] + beta_groups_1[1]*n for n in x_range]})\n",
    "df_g3_plot = pd.DataFrame({'x':x_range,\n",
    "                        'y_true':[beta_groups_0[2] + beta_groups_1[2]*n for n in x_range]})\n",
    "df_g4_plot = pd.DataFrame({'x':x_range,\n",
    "                        'y_true':[beta_groups_0[3] + beta_groups_1[3]*n for n in x_range]})\n",
    "\n",
    "#Mas que nada para graficar en un for y ahorrar lineas de codigo\n",
    "df_plot = [df_g1_plot, df_g2_plot, df_g3_plot, df_g4_plot]\n",
    "\n",
    "\n",
    "#Datas para graficar\n",
    "df_groups[0] = pd.DataFrame({'x':X_g1['x'],\n",
    "                           'y':y_g1})\n",
    "df_groups[1] = pd.DataFrame({'x':X_g2['x'],\n",
    "                           'y':y_g2})\n",
    "df_groups[2] = pd.DataFrame({'x':X_g3['x'],\n",
    "                           'y':y_g3})\n",
    "df_groups[3] = pd.DataFrame({'x':X_g4['x'],\n",
    "                           'y':y_g4})\n",
    "\n",
    "#Figuras y para ahorrar lineas de codigo\n",
    "fig_g1, ax_g1 = plt.subplots(figsize=(5.5, 4))\n",
    "fig_g2, ax_g2 = plt.subplots(figsize=(5.5, 4))\n",
    "fig_g3, ax_g3 = plt.subplots(figsize=(5.5, 4))\n",
    "fig_g4, ax_g4 = plt.subplots(figsize=(5.5, 4))\n",
    "ax = [ax_g1, ax_g2, ax_g3, ax_g4]\n",
    "        \n",
    "#Graficos por grupo\n",
    "for i in range(0,len_groups):\n",
    "    sns.scatterplot(x='x', y='y', data=df_groups[i], ax=ax[i])\n",
    "    sns.lineplot(x='x', y='y_true', data=df_plot[i],ax=ax[i],color=\"red\")\n",
    "    plt.title(groups[i])\n"
   ]
  },
  {
   "cell_type": "markdown",
   "metadata": {},
   "source": [
    "Se puede notar, que en los grupos **3** y **4** un dato aislado puede cambiar la trayectoria de la función considerablemente. Por otro lado, para el grupo **1** esta podría ser una buena regresión dada los datos, mientras que para el grupo **2** claramente se le podría hacer una regresión con otro tipo de función, cuadratica por ejemplo."
   ]
  },
  {
   "cell_type": "markdown",
   "metadata": {},
   "source": [
    "__4.__ Calcule los resultados de las métricas para cada grupo. Interprete."
   ]
  },
  {
   "cell_type": "code",
   "execution_count": 8,
   "metadata": {},
   "outputs": [
    {
     "name": "stdout",
     "output_type": "stream",
     "text": [
      "\n",
      "Metricas para el regresor del grupo 1\n",
      "      mae     mse   rmse   mape   maape   wmape   mmape   smape      r2\n",
      "0  0.5687  0.8556  0.925  0.115  0.1112  0.0748  0.0955  0.0993  0.8097\n",
      "\n",
      "Metricas para el regresor del grupo 2\n",
      "      mae     mse    rmse    mape   maape   wmape   mmape   smape     r2\n",
      "0  1.3027  1.8773  1.3702  0.1592  0.1575  0.1595  0.1418  0.1567 -2.175\n",
      "\n",
      "Metricas para el regresor del grupo 3\n",
      "      mae     mse    rmse    mape   maape   wmape   mmape   smape      r2\n",
      "0  0.5355  0.4994  0.7066  0.0639  0.0637  0.0707  0.0571  0.0607  0.4917\n",
      "\n",
      "Metricas para el regresor del grupo 4\n",
      "      mae     mse    rmse    mape   maape   wmape   mmape   smape      r2\n",
      "0  0.4814  0.3671  0.6059  0.0644  0.0642  0.0671  0.0568  0.0668 -0.2071\n"
     ]
    }
   ],
   "source": [
    "#Primero importamos las medidas que estan en el archivo metrics_regression.py\n",
    "\n",
    "from metrics_regression import *\n",
    "from sklearn.metrics import r2_score\n",
    "\n",
    "#Datas con los test y la prediccion\n",
    "df_g1_temp = pd.DataFrame({'y':y_g1_test,\n",
    "                           'yhat': model_rl.predict(X_g1_test)\n",
    "                        })\n",
    "df_g2_temp = pd.DataFrame({'y':y_g2_test,\n",
    "                           'yhat': model_rl.predict(X_g2_test)\n",
    "                        })\n",
    "df_g3_temp = pd.DataFrame({'y':y_g3_test,\n",
    "                           'yhat': model_rl.predict(X_g3_test)\n",
    "                        })\n",
    "df_g4_temp = pd.DataFrame({'y':y_g4_test,\n",
    "                           'yhat': model_rl.predict(X_g4_test)\n",
    "                        })\n",
    "df_temp = [df_g1_temp, df_g2_temp, df_g3_temp, df_g4_temp]\n",
    "df_metrics = []\n",
    "\n",
    "#Calculo de metricas \n",
    "for i in range(0, len_groups):\n",
    "    df_metrics.append(summary_metrics(df_temp[i]))\n",
    "\n",
    "#Agregamos r2 a las metricas\n",
    "df_metrics[0]['r2'] =  round(r2_score(y_g1_test, model_rl.predict(X_g1_test)),4)\n",
    "df_metrics[1]['r2'] =  round(r2_score(y_g2_test, model_rl.predict(X_g2_test)),4)\n",
    "df_metrics[2]['r2'] =  round(r2_score(y_g3_test, model_rl.predict(X_g3_test)),4)\n",
    "df_metrics[3]['r2'] =  round(r2_score(y_g4_test, model_rl.predict(X_g4_test)),4)\n",
    "\n",
    "for i in range(0, len_groups):\n",
    "    print('\\nMetricas para el regresor del grupo',i+1)\n",
    "    print(df_metrics[i])"
   ]
  },
  {
   "cell_type": "markdown",
   "metadata": {},
   "source": [
    "En el $R^2$ se puede notar que el grupo **1** es el más cercano a **1**, seguido del grupo **3**, el cual no es muy acertado, por lo mencionado anteriormente, que es ese dato aislado que se encuentra, pero se puede notar un claro error en los grupos **2** y **4**, en donde tal valor es negativo. Esto tambien queda claro en lo que sigue:\n",
    "\n"
   ]
  },
  {
   "cell_type": "code",
   "execution_count": 9,
   "metadata": {},
   "outputs": [
    {
     "name": "stdout",
     "output_type": "stream",
     "text": [
      "Grupo 1\n",
      "\n",
      "                            OLS Regression Results                            \n",
      "==============================================================================\n",
      "Dep. Variable:                      y   R-squared:                       0.621\n",
      "Model:                            OLS   Adj. R-squared:                  0.558\n",
      "Method:                 Least Squares   F-statistic:                     9.834\n",
      "Date:                Thu, 05 Nov 2020   Prob (F-statistic):             0.0202\n",
      "Time:                        21:16:12   Log-Likelihood:                -12.443\n",
      "No. Observations:                   8   AIC:                             28.89\n",
      "Df Residuals:                       6   BIC:                             29.04\n",
      "Df Model:                           1                                         \n",
      "Covariance Type:            nonrobust                                         \n",
      "==============================================================================\n",
      "                 coef    std err          t      P>|t|      [0.025      0.975]\n",
      "------------------------------------------------------------------------------\n",
      "const          3.4668      1.357      2.555      0.043       0.146       6.787\n",
      "x              0.4699      0.150      3.136      0.020       0.103       0.837\n",
      "==============================================================================\n",
      "Omnibus:                        0.120   Durbin-Watson:                   1.912\n",
      "Prob(Omnibus):                  0.942   Jarque-Bera (JB):                0.314\n",
      "Skew:                          -0.151   Prob(JB):                        0.855\n",
      "Kurtosis:                       2.078   Cond. No.                         26.5\n",
      "==============================================================================\n",
      "\n",
      "Warnings:\n",
      "[1] Standard Errors assume that the covariance matrix of the errors is correctly specified.\n"
     ]
    },
    {
     "name": "stderr",
     "output_type": "stream",
     "text": [
      "/home/pablo/anaconda3/envs/mat281/lib/python3.7/site-packages/scipy/stats/stats.py:1535: UserWarning: kurtosistest only valid for n>=20 ... continuing anyway, n=8\n",
      "  \"anyway, n=%i\" % int(n))\n"
     ]
    }
   ],
   "source": [
    "import statsmodels.api as sm\n",
    "\n",
    "model = sm.OLS(y_g1_train, sm.add_constant(X_g1_train))\n",
    "results = model.fit()\n",
    "print('Grupo 1\\n')\n",
    "print(results.summary())"
   ]
  },
  {
   "cell_type": "code",
   "execution_count": 10,
   "metadata": {},
   "outputs": [
    {
     "name": "stdout",
     "output_type": "stream",
     "text": [
      "Grupo 2\n",
      "\n",
      "                            OLS Regression Results                            \n",
      "==============================================================================\n",
      "Dep. Variable:                      y   R-squared:                       0.813\n",
      "Model:                            OLS   Adj. R-squared:                  0.782\n",
      "Method:                 Least Squares   F-statistic:                     26.13\n",
      "Date:                Thu, 05 Nov 2020   Prob (F-statistic):            0.00220\n",
      "Time:                        21:16:12   Log-Likelihood:                -10.838\n",
      "No. Observations:                   8   AIC:                             25.68\n",
      "Df Residuals:                       6   BIC:                             25.84\n",
      "Df Model:                           1                                         \n",
      "Covariance Type:            nonrobust                                         \n",
      "==============================================================================\n",
      "                 coef    std err          t      P>|t|      [0.025      0.975]\n",
      "------------------------------------------------------------------------------\n",
      "const          1.9240      1.110      1.733      0.134      -0.793       4.641\n",
      "x              0.6267      0.123      5.111      0.002       0.327       0.927\n",
      "==============================================================================\n",
      "Omnibus:                        0.954   Durbin-Watson:                   2.910\n",
      "Prob(Omnibus):                  0.621   Jarque-Bera (JB):                0.594\n",
      "Skew:                          -0.169   Prob(JB):                        0.743\n",
      "Kurtosis:                       1.709   Cond. No.                         26.5\n",
      "==============================================================================\n",
      "\n",
      "Warnings:\n",
      "[1] Standard Errors assume that the covariance matrix of the errors is correctly specified.\n"
     ]
    }
   ],
   "source": [
    "model = sm.OLS(y_g2_train, sm.add_constant(X_g2_train))\n",
    "results = model.fit()\n",
    "print('Grupo 2\\n')\n",
    "print(results.summary())"
   ]
  },
  {
   "cell_type": "code",
   "execution_count": 11,
   "metadata": {},
   "outputs": [
    {
     "name": "stdout",
     "output_type": "stream",
     "text": [
      "Grupo 3\n",
      "\n",
      "                            OLS Regression Results                            \n",
      "==============================================================================\n",
      "Dep. Variable:                      y   R-squared:                       0.710\n",
      "Model:                            OLS   Adj. R-squared:                  0.662\n",
      "Method:                 Least Squares   F-statistic:                     14.71\n",
      "Date:                Thu, 05 Nov 2020   Prob (F-statistic):            0.00860\n",
      "Time:                        21:16:12   Log-Likelihood:                -12.655\n",
      "No. Observations:                   8   AIC:                             29.31\n",
      "Df Residuals:                       6   BIC:                             29.47\n",
      "Df Model:                           1                                         \n",
      "Covariance Type:            nonrobust                                         \n",
      "==============================================================================\n",
      "                 coef    std err          t      P>|t|      [0.025      0.975]\n",
      "------------------------------------------------------------------------------\n",
      "const          2.4553      1.393      1.762      0.129      -0.954       5.865\n",
      "x              0.5903      0.154      3.836      0.009       0.214       0.967\n",
      "==============================================================================\n",
      "Omnibus:                        5.010   Durbin-Watson:                   1.838\n",
      "Prob(Omnibus):                  0.082   Jarque-Bera (JB):                1.489\n",
      "Skew:                           1.037   Prob(JB):                        0.475\n",
      "Kurtosis:                       3.403   Cond. No.                         26.5\n",
      "==============================================================================\n",
      "\n",
      "Warnings:\n",
      "[1] Standard Errors assume that the covariance matrix of the errors is correctly specified.\n"
     ]
    }
   ],
   "source": [
    "model = sm.OLS(y_g3_train, sm.add_constant(X_g3_train))\n",
    "results = model.fit()\n",
    "print('Grupo 3\\n')\n",
    "print(results.summary())"
   ]
  },
  {
   "cell_type": "code",
   "execution_count": 12,
   "metadata": {},
   "outputs": [
    {
     "name": "stdout",
     "output_type": "stream",
     "text": [
      "Grupo 4\n",
      "\n",
      "                            OLS Regression Results                            \n",
      "==============================================================================\n",
      "Dep. Variable:                      y   R-squared:                       0.682\n",
      "Model:                            OLS   Adj. R-squared:                  0.629\n",
      "Method:                 Least Squares   F-statistic:                     12.85\n",
      "Date:                Thu, 05 Nov 2020   Prob (F-statistic):             0.0116\n",
      "Time:                        21:16:12   Log-Likelihood:                -13.199\n",
      "No. Observations:                   8   AIC:                             30.40\n",
      "Df Residuals:                       6   BIC:                             30.56\n",
      "Df Model:                           1                                         \n",
      "Covariance Type:            nonrobust                                         \n",
      "==============================================================================\n",
      "                 coef    std err          t      P>|t|      [0.025      0.975]\n",
      "------------------------------------------------------------------------------\n",
      "const          2.8717      1.422      2.020      0.090      -0.607       6.351\n",
      "x              0.5068      0.141      3.584      0.012       0.161       0.853\n",
      "==============================================================================\n",
      "Omnibus:                        1.324   Durbin-Watson:                   2.514\n",
      "Prob(Omnibus):                  0.516   Jarque-Bera (JB):                0.661\n",
      "Skew:                           0.146   Prob(JB):                        0.719\n",
      "Kurtosis:                       1.623   Cond. No.                         28.0\n",
      "==============================================================================\n",
      "\n",
      "Warnings:\n",
      "[1] Standard Errors assume that the covariance matrix of the errors is correctly specified.\n"
     ]
    }
   ],
   "source": [
    "model = sm.OLS(y_g4_train, sm.add_constant(X_g4_train))\n",
    "results = model.fit()\n",
    "print('Grupo 4\\n')\n",
    "print(results.summary())"
   ]
  },
  {
   "cell_type": "markdown",
   "metadata": {},
   "source": [
    "__5.__ Es claro que el ajuste lineal para algunos grupos no es el correcto. Existen varias formas de solucionar este problema (eliminar outliers, otros modelos, etc.). Identifique una estrategia para que el modelo de regresión lineal ajuste de mejor manera e implemente otros modelos en los casos que encuentre necesario. "
   ]
  },
  {
   "cell_type": "markdown",
   "metadata": {},
   "source": [
    "Para el grupo **2**, se puede cambiar de modelo, notemos que se usa una proporcion de test alto, para los pocos datos que se tiene, y la regresión es bastante buena."
   ]
  },
  {
   "cell_type": "code",
   "execution_count": 13,
   "metadata": {},
   "outputs": [
    {
     "data": {
      "image/png": "[encoded data removed]",
      "text/plain": [
       "<Figure size 842.4x595.44 with 1 Axes>"
      ]
     },
     "metadata": {},
     "output_type": "display_data"
    }
   ],
   "source": [
    "#Regresion polinomica\n",
    "from sklearn.preprocessing import PolynomialFeatures\n",
    "from sklearn import linear_model\n",
    "\n",
    "#Training y test\n",
    "X_train_p, X_test_p, y_train_p, y_test_p = train_test_split(X_g2, y_g2, test_size=0.5, random_state= 18)\n",
    "\n",
    "#Modelo\n",
    "poli_reg = PolynomialFeatures(degree = 2)\n",
    "X_train_poli = poli_reg.fit_transform(X_train_p)\n",
    "X_test_poli = poli_reg.fit_transform(X_test_p)\n",
    "pr = linear_model.LinearRegression()\n",
    "pr.fit(X_train_poli, y_train_p)\n",
    "Y_pred_pr = pr.predict(X_test_poli)\n",
    "\n",
    "#Grafico\n",
    "plt.scatter(X_test_p, y_test_p)\n",
    "plt.plot(X_test_p, Y_pred_pr, color='red', linewidth=3)\n",
    "plt.show()"
   ]
  },
  {
   "cell_type": "markdown",
   "metadata": {},
   "source": [
    "Para el grupo **3**, se debe eliminar el _outliers_, que en primera instancia es el unico dato donde $y > 12$."
   ]
  },
  {
   "cell_type": "code",
   "execution_count": 14,
   "metadata": {},
   "outputs": [
    {
     "data": {
      "text/plain": [
       "Text(0.5, 1.0, 'Grupo 3')"
      ]
     },
     "execution_count": 14,
     "metadata": {},
     "output_type": "execute_result"
    },
    {
     "data": {
      "image/png": "[encoded data removed]",
      "text/plain": [
       "<Figure size 612x432 with 1 Axes>"
      ]
     },
     "metadata": {},
     "output_type": "display_data"
    }
   ],
   "source": [
    "#Data sin el outlier\n",
    "mask = (df_groups[2]['y'] < 12)\n",
    "df_g3 = df_groups[2][mask]\n",
    "\n",
    "#Todo lo necesario para la nueva regresion lineal\n",
    "\n",
    "X_g3 = df_g3[['x']]\n",
    "y_g3 = df_g3['y']\n",
    "\n",
    "#Training y Test\n",
    "X_g3_train,X_g3_test,y_g3_train,y_g3_test=train_test_split(X_g3, y_g3, test_size=0.2, random_state=42)\n",
    "\n",
    "#Modelo\n",
    "model_rl = LinearRegression()\n",
    "model_rl.fit(X_g3_train, y_g3_train)\n",
    "\n",
    "#Parametros\n",
    "beta_g3_0 = round(model_rl.intercept_,2)\n",
    "beta_g3_1 = round(model_rl.coef_[0],2)\n",
    "\n",
    "#Prediccion y data para graficar\n",
    "y_g3_predict = model_rl.predict(X_g3_test)\n",
    "df_g3_plot = pd.DataFrame({'x':x_range,\n",
    "                        'y_true':[beta_g3_0 + beta_g3_1*n for n in x_range]})\n",
    "\n",
    "#Graficar\n",
    "fig_g3, ax_g3 = plt.subplots(figsize=(8.5, 6))\n",
    "sns.scatterplot(x='x', y='y', data=df_g3, ax=ax_g3)\n",
    "sns.lineplot(x='x', y='y_true', data=df_g3_plot,ax=ax_g3,color=\"red\")\n",
    "plt.title('Grupo 3')"
   ]
  },
  {
   "cell_type": "markdown",
   "metadata": {},
   "source": [
    "Para el grupo **4**, se ve que no es posible realizar una regresion lineal si es que se retira el outlier en este."
   ]
  }
 ],
 "metadata": {
  "kernelspec": {
   "display_name": "Python 3",
   "language": "python",
   "name": "python3"
  },
  "language_info": {
   "codemirror_mode": {
    "name": "ipython",
    "version": 3
   },
   "file_extension": ".py",
   "mimetype": "text/x-python",
   "name": "python",
   "nbconvert_exporter": "python",
   "pygments_lexer": "ipython3",
   "version": "3.7.8"
  }
 },
 "nbformat": 4,
 "nbformat_minor": 4
}
