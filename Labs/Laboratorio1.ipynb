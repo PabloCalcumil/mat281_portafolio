{
 "cells": [
  {
   "cell_type": "markdown",
   "metadata": {},
   "source": [
    "<img src=\"images/usm.jpg\" width=\"480\" height=\"240\" align=\"center\"/>"
   ]
  },
  {
   "cell_type": "markdown",
   "metadata": {},
   "source": [
    "<center>\n",
    "    <strong> <font size=\"6\"> MAT281 - 2° Semestre 2020</font> </strong>\n",
    "    \n",
    "</center>"
   ]
  },
  {
   "cell_type": "markdown",
   "metadata": {},
   "source": [
    "<center>\n",
    "    <strong> <font size=\"3\"> Profesor: Francisco Alfaro Medina</font> </strong> \n",
    "    \n",
    "</center>"
   ]
  },
  {
   "cell_type": "markdown",
   "metadata": {},
   "source": [
    "## Problema 01"
   ]
  },
  {
   "cell_type": "markdown",
   "metadata": {},
   "source": [
    "### a) Calcular el número $\\pi$"
   ]
  },
  {
   "cell_type": "markdown",
   "metadata": {},
   "source": [
    "Al escribir la serie, la función queda de la siguiente manera:"
   ]
  },
  {
   "cell_type": "code",
   "execution_count": 19,
   "metadata": {},
   "outputs": [],
   "source": [
    "def Calculo_pi(n):\n",
    "    suma = 0\n",
    "    for k in range(1,n + 1):\n",
    "        suma = ((-1)**(k + 1))/(2*k - 1) + suma\n",
    "    return 4 * suma"
   ]
  },
  {
   "cell_type": "code",
   "execution_count": 7,
   "metadata": {},
   "outputs": [
    {
     "data": {
      "text/plain": [
       "3.466666666666667"
      ]
     },
     "execution_count": 7,
     "metadata": {},
     "output_type": "execute_result"
    }
   ],
   "source": [
    "Calculo_pi(3)"
   ]
  },
  {
   "cell_type": "code",
   "execution_count": 8,
   "metadata": {},
   "outputs": [
    {
     "data": {
      "text/plain": [
       "3.1415826535897198"
      ]
     },
     "execution_count": 8,
     "metadata": {},
     "output_type": "execute_result"
    }
   ],
   "source": [
    "Calculo_pi(100000)"
   ]
  },
  {
   "cell_type": "markdown",
   "metadata": {},
   "source": [
    "### b) Calcular el número $e$"
   ]
  },
  {
   "cell_type": "markdown",
   "metadata": {},
   "source": [
    "Necesitamos una función para los factoriales ```factorial()``` presentes como denominadores en la serie, por lo tanto las funciones quedan de la siguiente manera:"
   ]
  },
  {
   "cell_type": "code",
   "execution_count": 15,
   "metadata": {},
   "outputs": [],
   "source": [
    "def factorial(numero):\n",
    "    if numero == 1 or numero == 0:\n",
    "        return 1\n",
    "    else:\n",
    "        return (numero * factorial(numero - 1))\n",
    "    \n",
    "def Calculo_e(largo):\n",
    "    suma = 0\n",
    "    for k in range(0,largo):\n",
    "        denominador = factorial(k)\n",
    "        suma = 1/denominador + suma\n",
    "    return suma"
   ]
  },
  {
   "cell_type": "code",
   "execution_count": 16,
   "metadata": {},
   "outputs": [
    {
     "data": {
      "text/plain": [
       "2.5"
      ]
     },
     "execution_count": 16,
     "metadata": {},
     "output_type": "execute_result"
    }
   ],
   "source": [
    "Calculo_e(3)"
   ]
  },
  {
   "cell_type": "code",
   "execution_count": 18,
   "metadata": {},
   "outputs": [
    {
     "data": {
      "text/plain": [
       "2.7182818284590455"
      ]
     },
     "execution_count": 18,
     "metadata": {},
     "output_type": "execute_result"
    }
   ],
   "source": [
    "Calculo_e(1000)"
   ]
  },
  {
   "cell_type": "markdown",
   "metadata": {},
   "source": [
    "## Problema 02"
   ]
  },
  {
   "cell_type": "markdown",
   "metadata": {},
   "source": [
    "Como el problema se centra mayormente en la suma de sus divisores propios, se crea la función para obtener estos ```suma_propios()```, y luego la función buscada la que nos dirá si son o no amigos ```Amigos()```."
   ]
  },
  {
   "cell_type": "code",
   "execution_count": 36,
   "metadata": {},
   "outputs": [],
   "source": [
    "def suma_propios(numero):\n",
    "    if numero == 1:\n",
    "        return 0\n",
    "    divisores = []\n",
    "    numero2 = int(numero/2 + 1)\n",
    "    for k in range(1,numero2):\n",
    "        if numero % k == 0:\n",
    "            divisores.append(k)\n",
    "    return sum(divisores)\n",
    "\n",
    "def Amigos(numero1,numero2):\n",
    "    if suma_propios(numero1) == numero2 and numero1 == suma_propios(numero2):\n",
    "        return True\n",
    "    return False"
   ]
  },
  {
   "cell_type": "code",
   "execution_count": 37,
   "metadata": {},
   "outputs": [
    {
     "data": {
      "text/plain": [
       "True"
      ]
     },
     "execution_count": 37,
     "metadata": {},
     "output_type": "execute_result"
    }
   ],
   "source": [
    "Amigos(220,284)"
   ]
  },
  {
   "cell_type": "code",
   "execution_count": 38,
   "metadata": {},
   "outputs": [
    {
     "data": {
      "text/plain": [
       "False"
      ]
     },
     "execution_count": 38,
     "metadata": {},
     "output_type": "execute_result"
    }
   ],
   "source": [
    "Amigos(6,5)"
   ]
  },
  {
   "cell_type": "markdown",
   "metadata": {},
   "source": [
    "## Problema 03"
   ]
  },
  {
   "cell_type": "markdown",
   "metadata": {},
   "source": [
    "La función de ```Collatz()``` queda de la siguiente manera:"
   ]
  },
  {
   "cell_type": "code",
   "execution_count": 42,
   "metadata": {},
   "outputs": [],
   "source": [
    "def Collatz(Numero):\n",
    "    if Numero <= 1:\n",
    "        return 1\n",
    "    collatz = [Numero]\n",
    "    while Numero != 1:\n",
    "        if Numero % 2 == 1:\n",
    "            Numero = int(Numero * 3 + 1)\n",
    "            collatz.append(Numero)\n",
    "        else:\n",
    "            Numero = int(Numero / 2)\n",
    "            collatz.append(Numero)\n",
    "    return collatz"
   ]
  },
  {
   "cell_type": "code",
   "execution_count": 46,
   "metadata": {},
   "outputs": [
    {
     "data": {
      "text/plain": [
       "[9, 28, 14, 7, 22, 11, 34, 17, 52, 26, 13, 40, 20, 10, 5, 16, 8, 4, 2, 1]"
      ]
     },
     "execution_count": 46,
     "metadata": {},
     "output_type": "execute_result"
    }
   ],
   "source": [
    "Collatz(9)"
   ]
  },
  {
   "cell_type": "markdown",
   "metadata": {},
   "source": [
    "## Problema 04"
   ]
  },
  {
   "cell_type": "markdown",
   "metadata": {},
   "source": [
    "Como la función ```Goldbach()``` es la suma de dos numeros primos, necesitamos verificar primero que los numeros que sumaremos son numeros primos o no, para eso está la función ```esonoprimo()```, y al trabajar al final con solo numeros primos se busca la combinación que cumpla con el objetivo:"
   ]
  },
  {
   "cell_type": "code",
   "execution_count": 85,
   "metadata": {},
   "outputs": [],
   "source": [
    "def esonoprimo(numero):\n",
    "    if numero < 2:\n",
    "        return 0\n",
    "    elif numero == 2:\n",
    "        return 1\n",
    "    numero2 = int(numero / 2 + 1) \n",
    "    for k in range(2,numero2):\n",
    "        if numero % k == 0:\n",
    "            return 0\n",
    "    return 1\n",
    "\n",
    "def Goldbach(Numero):\n",
    "    if Numero < 3:\n",
    "        return False\n",
    "    primos = []\n",
    "    for k in range(2,Numero):\n",
    "        if esonoprimo(k) == 1:\n",
    "            primos.append(k)\n",
    "    for elemento in primos:\n",
    "        for number in primos:\n",
    "            if elemento + number == Numero:\n",
    "                primos.append(elemento)\n",
    "                primos.append(number)\n",
    "                return (primos[-2],primos[-1])"
   ]
  },
  {
   "cell_type": "code",
   "execution_count": 88,
   "metadata": {},
   "outputs": [
    {
     "data": {
      "text/plain": [
       "(2, 2)"
      ]
     },
     "execution_count": 88,
     "metadata": {},
     "output_type": "execute_result"
    }
   ],
   "source": [
    "Goldbach(4)"
   ]
  },
  {
   "cell_type": "code",
   "execution_count": 89,
   "metadata": {},
   "outputs": [
    {
     "data": {
      "text/plain": [
       "(3, 3)"
      ]
     },
     "execution_count": 89,
     "metadata": {},
     "output_type": "execute_result"
    }
   ],
   "source": [
    "Goldbach(6)"
   ]
  },
  {
   "cell_type": "code",
   "execution_count": 90,
   "metadata": {},
   "outputs": [
    {
     "data": {
      "text/plain": [
       "(3, 5)"
      ]
     },
     "execution_count": 90,
     "metadata": {},
     "output_type": "execute_result"
    }
   ],
   "source": [
    "Goldbach(8)"
   ]
  },
  {
   "cell_type": "code",
   "execution_count": 92,
   "metadata": {},
   "outputs": [
    {
     "data": {
      "text/plain": [
       "(3, 997)"
      ]
     },
     "execution_count": 92,
     "metadata": {},
     "output_type": "execute_result"
    }
   ],
   "source": [
    "Goldbach(1000)"
   ]
  }
 ],
 "metadata": {
  "kernelspec": {
   "display_name": "Python 3",
   "language": "python",
   "name": "python3"
  },
  "language_info": {
   "codemirror_mode": {
    "name": "ipython",
    "version": 3
   },
   "file_extension": ".py",
   "mimetype": "text/x-python",
   "name": "python",
   "nbconvert_exporter": "python",
   "pygments_lexer": "ipython3",
   "version": "3.7.3"
  }
 },
 "nbformat": 4,
 "nbformat_minor": 2
}
