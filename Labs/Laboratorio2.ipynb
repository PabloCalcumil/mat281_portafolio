{
 "cells": [
  {
   "cell_type": "markdown",
   "metadata": {},
   "source": [
    "<img src=\"images/usm.jpg\" width=\"480\" height=\"240\" align=\"center\"/>"
   ]
  },
  {
   "cell_type": "markdown",
   "metadata": {},
   "source": [
    "<center>\n",
    "    <strong> <font size=\"6\"> MAT281 - 2° Semestre 2020</font> </strong>\n",
    "    \n",
    "</center>"
   ]
  },
  {
   "cell_type": "markdown",
   "metadata": {},
   "source": [
    "<center>\n",
    "    <strong> <font size=\"3\"> Profesor: Francisco Alfaro Medina</font> </strong> \n",
    "    \n",
    "</center>"
   ]
  },
  {
   "cell_type": "code",
   "execution_count": 1,
   "metadata": {},
   "outputs": [],
   "source": [
    "import numpy as np"
   ]
  },
  {
   "cell_type": "markdown",
   "metadata": {},
   "source": [
    "## Problema 01"
   ]
  },
  {
   "cell_type": "markdown",
   "metadata": {},
   "source": [
    "La función ```SMA()``` queda de la siguiente forma:"
   ]
  },
  {
   "cell_type": "code",
   "execution_count": 85,
   "metadata": {},
   "outputs": [],
   "source": [
    "def SMA(Array,Numero):\n",
    "    stop = np.shape(Array)[0] - Numero + 1   #es para detenernos en ese punto, y no iterar demás \n",
    "    AF = [np.cumsum(Array[i:i + Numero],dtype=float)[Numero - 1] / Numero for i in range(0,stop)] #Aca ponemos cada media considerando el largo Numero para volverlo un array\n",
    "    return np.array(AF)  #Finalmente lo volvemos un arreglo"
   ]
  },
  {
   "cell_type": "code",
   "execution_count": 86,
   "metadata": {},
   "outputs": [
    {
     "data": {
      "text/plain": [
       "array([4. , 5.5, 9. , 6. , 1.5, 3. , 3. , 0.5, 1. ])"
      ]
     },
     "execution_count": 86,
     "metadata": {},
     "output_type": "execute_result"
    }
   ],
   "source": [
    "a = np.array([5,3,8,10,2,1,5,1,0,2])\n",
    "SMA(a,2)"
   ]
  },
  {
   "cell_type": "markdown",
   "metadata": {},
   "source": [
    "## Problema 02"
   ]
  },
  {
   "cell_type": "markdown",
   "metadata": {},
   "source": [
    "Notemos primero, que no siempre dará una matriz ya que nosotros elegimos el numero de columnas y desfase. Por ejemplo si escogemos ***Numero de Columnas***: 7 y ***Desfase***: 2 en el arreglo ***[1,2,3,4,5,6,7,8,9,10]***\n",
    "la primera fila tendrá sus 7 columnas, pero la segunda tendrá solo 5 elementos.\n",
    "\n",
    "Pensando en ello, así queda la funcion ```Strides()```."
   ]
  },
  {
   "cell_type": "code",
   "execution_count": 87,
   "metadata": {},
   "outputs": [],
   "source": [
    "def Strides(Arreglo, Columnas, Desfase):\n",
    "    largo = np.shape(Arreglo)[0]    #Obtenemos el largo del arreglo\n",
    "    Matriz = [Arreglo[i:i+Columnas] for i in range(0,largo - Desfase,Columnas - Desfase)] #Agregamos el arreglo desde el desfase + la cantidad de columnas, y así agregamos el arreglo fila de largo columna con el desfase\n",
    "    return np.array(Matriz)  #Finalmente lo volvemos un arreglo"
   ]
  },
  {
   "cell_type": "code",
   "execution_count": 88,
   "metadata": {},
   "outputs": [
    {
     "data": {
      "text/plain": [
       "array([[ 1,  2,  3,  4],\n",
       "       [ 3,  4,  5,  6],\n",
       "       [ 5,  6,  7,  8],\n",
       "       [ 7,  8,  9, 10]])"
      ]
     },
     "execution_count": 88,
     "metadata": {},
     "output_type": "execute_result"
    }
   ],
   "source": [
    "b = np.array([1,2,3,4,5,6,7,8,9,10])\n",
    "Strides(b,4,2)"
   ]
  },
  {
   "cell_type": "markdown",
   "metadata": {},
   "source": [
    "## Problema 03"
   ]
  },
  {
   "cell_type": "markdown",
   "metadata": {},
   "source": [
    "Para la función ```EsCuadradoMagico()``` se crea la función ```EsCuaYSonCon()```, para verificar si cumple con que es cuadrada y si los numeros en la matriz son consecutivos del 1 al $n^2$. Finalmente, ambas funciones quedan de la siguiente manera:"
   ]
  },
  {
   "cell_type": "code",
   "execution_count": 89,
   "metadata": {},
   "outputs": [],
   "source": [
    "def EsCuaYSonCon(Matrix):\n",
    "    n,m = np.shape(Matrix)\n",
    "    if n != m:\n",
    "        return False      #Aquí vemos si es una matriz cuadrada\n",
    "    for i in range(1,n ** 2 + 1):   #Con esto vemos si están todos los numeros consecutivamente del 1 al n cuadrado\n",
    "        if i not in Matrix:\n",
    "            return False\n",
    "    return True\n",
    "\n",
    "def EsCuadradoMagico(Matrix):\n",
    "    if EsCuaYSonCon(Matrix) == False:   #Vemos si se cumple o no lo pedido (Matriz cuadrada + numeros consecutivos del 1 al n cuadrado)\n",
    "        return False\n",
    "    n,m = np.shape(Matrix)\n",
    "    SumasF, SumasC = Matrix.sum(axis = 1), Matrix.sum(axis = 0) #Obtenemos un arreglo con la suma de cada fila y columna\n",
    "    SumaD1, SumaD2 = sum(Matrix.diagonal()), sum(np.fliplr(Matrix).diagonal()) #Obtenemos la suma de la diagonal a la derecha e izquierda\n",
    "    if SumaD1 == SumaD2:\n",
    "        for i in range(0,n):\n",
    "            if SumasF[i] != SumaD1 and SumasC[i] != SumaD1:  #Verificamos si se cumple que es cuadrado magico o no\n",
    "                return False\n",
    "        return True\n",
    "    return False"
   ]
  },
  {
   "cell_type": "code",
   "execution_count": 90,
   "metadata": {},
   "outputs": [
    {
     "name": "stdout",
     "output_type": "stream",
     "text": [
      "True\n",
      "False\n"
     ]
    }
   ],
   "source": [
    "A = np.array([[4,9,2],[3,5,7],[8,1,6]])\n",
    "B = np.array([[4,2,9],[3,5,7],[8,1,6]])\n",
    "print(EsCuadradoMagico(A))\n",
    "print(EsCuadradoMagico(B))"
   ]
  }
 ],
 "metadata": {
  "kernelspec": {
   "display_name": "Python 3",
   "language": "python",
   "name": "python3"
  },
  "language_info": {
   "codemirror_mode": {
    "name": "ipython",
    "version": 3
   },
   "file_extension": ".py",
   "mimetype": "text/x-python",
   "name": "python",
   "nbconvert_exporter": "python",
   "pygments_lexer": "ipython3",
   "version": "3.7.3"
  }
 },
 "nbformat": 4,
 "nbformat_minor": 2
}
